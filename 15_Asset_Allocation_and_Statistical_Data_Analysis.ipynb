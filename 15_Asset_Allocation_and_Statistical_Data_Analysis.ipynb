{
  "nbformat": 4,
  "nbformat_minor": 0,
  "metadata": {
    "colab": {
      "provenance": [],
      "authorship_tag": "ABX9TyO7OSqMh1YntzDxQ6OK1pne",
      "include_colab_link": true
    },
    "kernelspec": {
      "name": "python3",
      "display_name": "Python 3"
    },
    "language_info": {
      "name": "python"
    }
  },
  "cells": [
    {
      "cell_type": "markdown",
      "metadata": {
        "id": "view-in-github",
        "colab_type": "text"
      },
      "source": [
        "<a href=\"https://colab.research.google.com/github/rizaho/ml_for_financial_analysis/blob/main/15_Asset_Allocation_and_Statistical_Data_Analysis.ipynb\" target=\"_parent\"><img src=\"https://colab.research.google.com/assets/colab-badge.svg\" alt=\"Open In Colab\"/></a>"
      ]
    },
    {
      "cell_type": "code",
      "execution_count": 1,
      "metadata": {
        "id": "81Alg8NPfvId"
      },
      "outputs": [],
      "source": [
        "import pandas as pd\n",
        "import numpy as np\n",
        "import matplotlib.pyplot as plt\n",
        "from sklearn import linear_model\n",
        "from google.colab import drive\n",
        "import seaborn as sns\n",
        "%matplotlib inline\n",
        "from copy import copy\n",
        "from scipy import stats\n",
        "import plotly.express as px\n",
        "import plotly.figure_factory as ff\n",
        "import plotly.graph_objects as go"
      ]
    },
    {
      "cell_type": "code",
      "source": [
        "# read data from google drive\n",
        "drive.mount('/content/drive')\n",
        "DRIVE_DATASET_PATH = \"/content/drive/My Drive/Colab Notebooks/Python & ML for Financial Analysis/\""
      ],
      "metadata": {
        "id": "j-zGXXodf_HU",
        "outputId": "7d6d0276-1d09-44b4-9652-a66d751541a2",
        "colab": {
          "base_uri": "https://localhost:8080/"
        }
      },
      "execution_count": 2,
      "outputs": [
        {
          "output_type": "stream",
          "name": "stdout",
          "text": [
            "Mounted at /content/drive\n"
          ]
        }
      ]
    }
  ]
}