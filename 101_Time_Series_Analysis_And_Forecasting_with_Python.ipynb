{
  "nbformat": 4,
  "nbformat_minor": 0,
  "metadata": {
    "colab": {
      "provenance": [],
      "authorship_tag": "ABX9TyOL12NDCm6LPv2Tj/EHrLH/",
      "include_colab_link": true
    },
    "kernelspec": {
      "name": "python3",
      "display_name": "Python 3"
    },
    "language_info": {
      "name": "python"
    }
  },
  "cells": [
    {
      "cell_type": "markdown",
      "metadata": {
        "id": "view-in-github",
        "colab_type": "text"
      },
      "source": [
        "<a href=\"https://colab.research.google.com/github/rizaho/ml_for_financial_analysis/blob/main/101_Time_Series_Analysis_And_Forecasting_with_Python.ipynb\" target=\"_parent\"><img src=\"https://colab.research.google.com/assets/colab-badge.svg\" alt=\"Open In Colab\"/></a>"
      ]
    },
    {
      "cell_type": "code",
      "execution_count": null,
      "metadata": {
        "id": "lTQOQK35GCha"
      },
      "outputs": [],
      "source": [
        "#https://ceb.udemy.com/course/time-series-analysis-and-forecasting-with-python/learn/lecture/27893330#overview\n"
      ]
    }
  ]
}