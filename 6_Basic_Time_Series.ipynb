{
  "nbformat": 4,
  "nbformat_minor": 0,
  "metadata": {
    "colab": {
      "provenance": [],
      "authorship_tag": "ABX9TyMusZzAdiVAq2V5JNwqKadS",
      "include_colab_link": true
    },
    "kernelspec": {
      "name": "python3",
      "display_name": "Python 3"
    },
    "language_info": {
      "name": "python"
    }
  },
  "cells": [
    {
      "cell_type": "markdown",
      "metadata": {
        "id": "view-in-github",
        "colab_type": "text"
      },
      "source": [
        "<a href=\"https://colab.research.google.com/github/rizaho/ml_for_financial_analysis/blob/main/6_Basic_Time_Series.ipynb\" target=\"_parent\"><img src=\"https://colab.research.google.com/assets/colab-badge.svg\" alt=\"Open In Colab\"/></a>"
      ]
    },
    {
      "cell_type": "code",
      "execution_count": null,
      "metadata": {
        "id": "81eiXozjp60V"
      },
      "outputs": [],
      "source": [
        "#Practical Financial Data Analysis With Python Data Science\n",
        "#https://ceb.udemy.com/course/practical-financial-data-analysis-with-python-data-science/learn/lecture/20657026#overview"
      ]
    }
  ]
}